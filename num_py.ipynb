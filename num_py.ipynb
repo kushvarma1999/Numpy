{
 "cells": [
  {
   "cell_type": "code",
   "execution_count": 5,
   "metadata": {},
   "outputs": [
    {
     "name": "stdout",
     "output_type": "stream",
     "text": [
      "type of array <class 'numpy.ndarray'>\n",
      "[0, 1, 2, 3, 4, 5, 6, 7, 8, 9]\n",
      "type of array <class 'list'>\n"
     ]
    }
   ],
   "source": [
    "import numpy as np\n",
    "x = np.array([[1, 2, 3], [4, 5, 6]])\n",
    "print(\"type of array\",type(x))\n",
    "y=list(range(10))\n",
    "print(y)\n",
    "print(\"type of array\",type(y))"
   ]
  },
  {
   "cell_type": "code",
   "execution_count": 12,
   "metadata": {},
   "outputs": [
    {
     "name": "stdout",
     "output_type": "stream",
     "text": [
      "type of L2 first element <class 'str'>\n"
     ]
    }
   ],
   "source": [
    "L2 = [str(c) for c in y]\n",
    "L2\n",
    "print(\"type of L2 first element\",type(L2[0]))\n"
   ]
  },
  {
   "cell_type": "code",
   "execution_count": 15,
   "metadata": {},
   "outputs": [
    {
     "data": {
      "text/plain": [
       "[bool, str, float, int]"
      ]
     },
     "execution_count": 15,
     "metadata": {},
     "output_type": "execute_result"
    }
   ],
   "source": [
    "a = [True, \"2\", 3.0, 4] \n",
    "[type(item) for item in a]"
   ]
  },
  {
   "cell_type": "code",
   "execution_count": 21,
   "metadata": {},
   "outputs": [
    {
     "name": "stdout",
     "output_type": "stream",
     "text": [
      "<class 'list'>\n",
      "<class 'array.array'>\n"
     ]
    }
   ],
   "source": [
    "import array\n",
    "h=list(range(10))\n",
    "print(type(h))\n",
    "H=array.array('i',h)\n",
    "print(type(H))"
   ]
  },
  {
   "cell_type": "code",
   "execution_count": 32,
   "metadata": {},
   "outputs": [
    {
     "name": "stdout",
     "output_type": "stream",
     "text": [
      "[ 1.  2.  3.  4.]\n",
      "[[2 3 4]\n",
      " [3 4 5]\n",
      " [4 5 6]]\n"
     ]
    }
   ],
   "source": [
    "g=np.array([1,2,3,4],dtype=\"float32\")\n",
    "print(g)\n",
    "g1=np.array([range(i,i+3) for i in [2,3,4]])\n",
    "print(g1)"
   ]
  },
  {
   "cell_type": "code",
   "execution_count": 42,
   "metadata": {},
   "outputs": [
    {
     "name": "stdout",
     "output_type": "stream",
     "text": [
      "[0 0 0 0 0 0 0 0 0 0] \n",
      "\n",
      "[[ 1.  1.  1.  1.  1.]\n",
      " [ 1.  1.  1.  1.  1.]\n",
      " [ 1.  1.  1.  1.  1.]] \n",
      "\n",
      "[[ 3.14  3.14  3.14  3.14  3.14]\n",
      " [ 3.14  3.14  3.14  3.14  3.14]\n",
      " [ 3.14  3.14  3.14  3.14  3.14]] \n",
      "\n"
     ]
    }
   ],
   "source": [
    "k1=np.zeros(10,dtype=int)\n",
    "print(k1,\"\\n\")\n",
    "k2=np.ones((3,5),dtype=float)\n",
    "print(k2,\"\\n\")\n",
    "k3=np.full((3, 5), 3.14)\n",
    "print(k3,\"\\n\")"
   ]
  },
  {
   "cell_type": "code",
   "execution_count": 62,
   "metadata": {},
   "outputs": [
    {
     "name": "stdout",
     "output_type": "stream",
     "text": [
      "[ 0  3  6  9 12 15 18]\n",
      "\n",
      " [ 0.    0.25  0.5   0.75  1.  ]\n",
      "\n",
      " [[ 0.21510899  0.04505155  0.21434358]\n",
      " [ 0.37918186  0.2573244   0.94725922]\n",
      " [ 0.88553125  0.65174339  0.62177421]]\n",
      "\n",
      " [[ 1.01242275  0.23266908 -1.13827128]\n",
      " [-1.2680374  -0.88201151 -0.85219115]\n",
      " [ 1.09137402 -1.87995968 -0.09921542]]\n",
      "\n",
      " [[8 5 6]\n",
      " [3 0 7]\n",
      " [1 5 0]]\n",
      "\n",
      " [[ 1.  0.  0.]\n",
      " [ 0.  1.  0.]\n",
      " [ 0.  0.  1.]]\n",
      "\n",
      " [ 1.  1.  1.]\n"
     ]
    }
   ],
   "source": [
    "o=np.arange(0,20,3)#start,stop,steps\n",
    "print(o)\n",
    "o1=np.linspace(0,1,5) # Create an array of five values evenly spaced between 0 and 1\n",
    "print(\"\\n\",o1)\n",
    "o2=np.random.random((3,3))\n",
    "print(\"\\n\",o2)\n",
    "o3=np.random.normal(0,1,(3,3))\n",
    "print(\"\\n\",o3)\n",
    "o4=np.random.randint(0,10,(3,3))\n",
    "print(\"\\n\",o4)\n",
    "o5=np.eye(3)\n",
    "print(\"\\n\",o5)\n",
    "o6=np.empty(3)\n",
    "print(\"\\n\",o6)\n"
   ]
  },
  {
   "cell_type": "code",
   "execution_count": 72,
   "metadata": {},
   "outputs": [
    {
     "name": "stdout",
     "output_type": "stream",
     "text": [
      "the number of dimensions:   1 \n",
      " the size of each dimension:  (6,) \n",
      " the total size of the array:  6\n",
      "\n",
      "\n",
      "the number of dimensions:   2 \n",
      " the size of each dimension:  (3, 4) \n",
      " the total size of the array:  12\n",
      "\n",
      "\n",
      "the number of dimensions:   3 \n",
      " the size of each dimension:  (3, 4, 5) \n",
      " the total size of the array:  60\n",
      "\n",
      "dtype: int64\n",
      "itemsize: 8 bytes\n",
      "nbytes: 480 bytes\n"
     ]
    }
   ],
   "source": [
    "z=np.random.randint(0,10,size=6)\n",
    "print(\"the number of dimensions:  \",z.ndim,\"\\n the size of each dimension: \"\n",
    "      ,z.shape,\"\\n the total size of the array: \",z.size)\n",
    "z1=np.random.randint(0,10,size=(3,4))\n",
    "print(\"\\n\\nthe number of dimensions:  \",z1.ndim,\"\\n the size of each dimension: \"\n",
    "      ,z1.shape,\"\\n the total size of the array: \",z1.size)\n",
    "\n",
    "z2=np.random.randint(0,10,size=(3,4,5))\n",
    "print(\"\\n\\nthe number of dimensions:  \",z2.ndim,\"\\n the size of each dimension: \"\n",
    "      ,z2.shape,\"\\n the total size of the array: \",z2.size)\n",
    "\n",
    "print(\"\\ndtype:\",z2.dtype)\n",
    "print(\"itemsize:\", z2.itemsize, \"bytes\")\n",
    "print(\"nbytes:\", z2.nbytes, \"bytes\")\n"
   ]
  },
  {
   "cell_type": "code",
   "execution_count": 84,
   "metadata": {},
   "outputs": [
    {
     "name": "stdout",
     "output_type": "stream",
     "text": [
      "[0 1 2 3 4 5 6 7 8 9]\n",
      "[4 5 6 7 8]\n",
      "[9 8 7 6 5 4 3 2 1 0]\n"
     ]
    },
    {
     "ename": "TypeError",
     "evalue": "unsupported operand type(s) for -: 'list' and 'int'",
     "output_type": "error",
     "traceback": [
      "\u001b[0;31m---------------------------------------------------------------------------\u001b[0m",
      "\u001b[0;31mTypeError\u001b[0m                                 Traceback (most recent call last)",
      "\u001b[0;32m<ipython-input-84-bd8c25849e4b>\u001b[0m in \u001b[0;36m<module>\u001b[0;34m()\u001b[0m\n\u001b[1;32m      4\u001b[0m \u001b[0mprint\u001b[0m\u001b[0;34m(\u001b[0m\u001b[0mt\u001b[0m\u001b[0;34m[\u001b[0m\u001b[0;34m:\u001b[0m\u001b[0;34m:\u001b[0m\u001b[0;34m-\u001b[0m\u001b[0;36m1\u001b[0m\u001b[0;34m]\u001b[0m\u001b[0;34m)\u001b[0m\u001b[0;31m#start,stop,steps\u001b[0m\u001b[0;34m\u001b[0m\u001b[0m\n\u001b[1;32m      5\u001b[0m \u001b[0;34m\u001b[0m\u001b[0m\n\u001b[0;32m----> 6\u001b[0;31m \u001b[0mt2\u001b[0m\u001b[0;34m=\u001b[0m\u001b[0mnp\u001b[0m\u001b[0;34m.\u001b[0m\u001b[0marange\u001b[0m\u001b[0;34m(\u001b[0m\u001b[0;34m[\u001b[0m\u001b[0;36m10\u001b[0m\u001b[0;34m,\u001b[0m\u001b[0;36m10\u001b[0m\u001b[0;34m]\u001b[0m\u001b[0;34m)\u001b[0m\u001b[0;34m\u001b[0m\u001b[0m\n\u001b[0m\u001b[1;32m      7\u001b[0m \u001b[0mprint\u001b[0m\u001b[0;34m(\u001b[0m\u001b[0;34m\"2d\"\u001b[0m\u001b[0;34m,\u001b[0m\u001b[0mt2\u001b[0m\u001b[0;34m)\u001b[0m\u001b[0;34m\u001b[0m\u001b[0m\n",
      "\u001b[0;31mTypeError\u001b[0m: unsupported operand type(s) for -: 'list' and 'int'"
     ]
    }
   ],
   "source": [
    "t=np.arange(10)\n",
    "print(t)\n",
    "print(t[4:9])\n",
    "print(t[::-1])#start,stop,steps\n",
    "\n",
    "t2=np.arange([10,10])\n",
    "print(\"2d\",t2)"
   ]
  }
 ],
 "metadata": {
  "kernelspec": {
   "display_name": "Python 3",
   "language": "python",
   "name": "python3"
  },
  "language_info": {
   "codemirror_mode": {
    "name": "ipython",
    "version": 3
   },
   "file_extension": ".py",
   "mimetype": "text/x-python",
   "name": "python",
   "nbconvert_exporter": "python",
   "pygments_lexer": "ipython3",
   "version": "3.6.3"
  }
 },
 "nbformat": 4,
 "nbformat_minor": 2
}
